{
 "cells": [
  {
   "cell_type": "markdown",
   "metadata": {},
   "source": [
    "# Question 1 "
   ]
  },
  {
   "cell_type": "markdown",
   "metadata": {},
   "source": [
    "## Q1.1 \n",
    "\n",
    "![Rotating Cow](hw_images/rotating_cow.gif)\n",
    "\n"
   ]
  },
  {
   "cell_type": "markdown",
   "metadata": {},
   "source": [
    "## Q1.2\n",
    "\n",
    "![Dolly Zoom](hw_images/dolly_zoom.gif)"
   ]
  },
  {
   "cell_type": "markdown",
   "metadata": {},
   "source": [
    "---\n",
    "\n",
    "# Question 2"
   ]
  },
  {
   "cell_type": "markdown",
   "metadata": {},
   "source": [
    "## Q2.1\n",
    "\n",
    "![Tetrahedral](hw_images/tetrahedral.gif)  \n",
    "\n",
    "The tetrahedron should have 4 verticies and 4 faces"
   ]
  },
  {
   "cell_type": "markdown",
   "metadata": {},
   "source": [
    "## Q2.2\n",
    "\n",
    "![Cube](hw_images/cube.gif)\n",
    "\n",
    "The cube should have 8 verticies and 12 faces"
   ]
  },
  {
   "cell_type": "markdown",
   "metadata": {},
   "source": [
    "---\n",
    "\n",
    "# Question 3\n",
    "\n",
    "<p float=\"left\">\n",
    "  <img src=\"hw_images/rotating_cow.gif\" alt=\"Rotating Cow\" width=\"300\"/>\n",
    "  <img src=\"hw_images/retextured_cow.gif\" alt=\"Dolly Zoom\" width=\"300\"/>\n",
    "</p>\n",
    "\n",
    "I went with similar colors as in the handout that produces a color gradient from blue to red. "
   ]
  },
  {
   "cell_type": "markdown",
   "metadata": {},
   "source": [
    "---\n",
    "\n",
    "# Question 4"
   ]
  },
  {
   "cell_type": "markdown",
   "metadata": {},
   "source": [
    "\n",
    "\n",
    "To achieve this \n",
    "\n",
    "![transform1](images/transform1.jpg)\n",
    "\n",
    "transform we rotate about the z axis\n",
    "\n",
    "$R_{\\text{relative}} = \\begin{bmatrix} 0 & 1 & 0 \\\\ -1 & 0 & 0 \\\\ 0 & 0 & 1 \\end{bmatrix}$\n",
    "\n",
    "\n",
    "$T_{\\text{relative}} = \\begin{bmatrix} 0 \\\\ 0 \\\\ 0 \\end{bmatrix}$\n",
    "\n",
    "\n",
    "![transform1.2](hw_images/cow_roll.png)\n",
    "\n"
   ]
  },
  {
   "cell_type": "markdown",
   "metadata": {},
   "source": [
    "---\n",
    "\n",
    "\n",
    "\n",
    "\n",
    "To achieve this \n",
    "\n",
    "![transform2](images/transform2.jpg)\n",
    "\n",
    "transform we have to rotate about y (yaw) and translate about x and z:\n",
    "\n",
    "$R_{\\text{relative}} = \\begin{bmatrix} 0 & 0 & 1 \\\\ 0 & 1 & 0 \\\\ -1 & 0 & 0 \\end{bmatrix}$\n",
    "\n",
    "\n",
    "$T_{\\text{relative}} = \\begin{bmatrix} -2.5 \\\\ 0 \\\\ 3 \\end{bmatrix}$\n",
    "\n",
    "\n",
    "![transform2.2](hw_images/cow_yaw_and_translate.png)"
   ]
  },
  {
   "cell_type": "markdown",
   "metadata": {},
   "source": [
    "---\n",
    "\n",
    "\n",
    "To achieve this\n",
    "\n",
    "![transform3](images/transform3.jpg)\n",
    "\n",
    "we simply translate along the z axis\n",
    "\n",
    "$R_{\\text{relative}} = \\begin{bmatrix} 1 & 0 & 0 \\\\ 0 & 1 & 0 \\\\ 0 & 0 & 1 \\end{bmatrix}$\n",
    "\n",
    "\n",
    "$T_{\\text{relative}} = \\begin{bmatrix} 0 \\\\ 0 \\\\ 5 \\end{bmatrix}$\n",
    "\n",
    "\n",
    "![transform3.2](hw_images/cow_translate_back.png)\n"
   ]
  },
  {
   "cell_type": "markdown",
   "metadata": {},
   "source": [
    "---\n",
    "\n",
    "\n",
    "To achieve this\n",
    "\n",
    "![transform4](images/transform4.jpg)\n",
    "\n",
    "we simply translate along the x axis:\n",
    "\n",
    "$R_{\\text{relative}} = \\begin{bmatrix} 1 & 0 & 0 \\\\ 0 & 1 & 0 \\\\ 0 & 0 & 1 \\end{bmatrix}$\n",
    "\n",
    "\n",
    "$T_{\\text{relative}} = \\begin{bmatrix} 0.8 \\\\ 0 \\\\ 0 \\end{bmatrix}$\n",
    "\n",
    "![transform4.2](hw_images/cow_translate_right.png)"
   ]
  },
  {
   "cell_type": "markdown",
   "metadata": {},
   "source": [
    "---\n",
    "\n",
    "# Question 5"
   ]
  },
  {
   "cell_type": "markdown",
   "metadata": {},
   "source": [
    "## Q5.1\n",
    "\n",
    "<p float=\"left\">\n",
    "  <img src=\"hw_images/plant1.gif\" alt=\"Plant 1\" width=\"250\"/>\n",
    "  <img src=\"hw_images/plant2.gif\" alt=\"Plant 2\" width=\"250\"/>\n",
    "  <img src=\"hw_images/plants_combine.gif\" alt=\"Plants Combined\" width=\"250\"/>\n",
    "</p>\n"
   ]
  },
  {
   "cell_type": "markdown",
   "metadata": {},
   "source": [
    "## Q5.2 \n",
    "\n",
    "<p float=\"left\">\n",
    "  <img src=\"hw_images/torus_parametric.gif\" alt=\"Torus Parametric\" width=\"300\"/>\n",
    "  <img src=\"hw_images/ellipsoid_parametric.gif\" alt=\"Ellipsoid Implicit\" width=\"300\"/>\n",
    "</p>\n"
   ]
  },
  {
   "cell_type": "markdown",
   "metadata": {},
   "source": [
    "## Q5.3\n",
    "\n",
    "<p float=\"left\">\n",
    "  <img src=\"hw_images/torus_implcit.gif\" alt=\"Torus Parametric\" width=\"300\"/>\n",
    "  <img src=\"hw_images/ellipsoid_implicit.gif\" alt=\"Ellipsoid Implicit\" width=\"300\"/>\n",
    "</p>\n",
    "\n",
    "Question: Point clouds are faster to render and use less memory since they store only points without connectivity. However, they can appear sparse and lack surface continuity. Meshes provide higher visual quality with continuous surfaces and better shading, but require more memory and are slower to render.\n",
    "\n",
    "\n",
    "Response: Point clouds are faster to render and use less memory since they store only points without connectivity. However, they can appear sparse and lack surface continuity. Meshes provide higher visual quality with continuous surfaces, but require more memory and are slower to render."
   ]
  },
  {
   "cell_type": "markdown",
   "metadata": {},
   "source": [
    "---\n",
    "\n",
    "# Question 6\n",
    "\n",
    "![Star](hw_images/star_parametric.gif)\n",
    "\n",
    "Star like parametric function"
   ]
  },
  {
   "cell_type": "markdown",
   "metadata": {},
   "source": [
    "---\n",
    "# Question 7\n",
    "\n",
    "\n",
    "Cow with 10 points sampled\n",
    "<p float=\"left\">\n",
    "  <img src=\"hw_images/original_cow_mesh.gif\" alt=\"Cow Original\" width=\"300\"/>\n",
    "  <img src=\"hw_images/sampled_cow_points_10.gif\" alt=\"Ellipsoid Implicit\" width=\"300\"/>\n",
    "</p>\n",
    "\n",
    "\n",
    "Cow with 100 points sampled\n",
    "<p float=\"left\">\n",
    "  <img src=\"hw_images/original_cow_mesh.gif\" alt=\"Cow Original\" width=\"300\"/>\n",
    "  <img src=\"hw_images/sampled_cow_points_100.gif\" alt=\"Ellipsoid Implicit\" width=\"300\"/>\n",
    "</p>\n",
    "\n",
    "\n",
    "Cow with 1000 points sampled\n",
    "<p float=\"left\">\n",
    "  <img src=\"hw_images/original_cow_mesh.gif\" alt=\"Cow Original\" width=\"300\"/>\n",
    "  <img src=\"hw_images/sampled_cow_points_1000.gif\" alt=\"Ellipsoid Implicit\" width=\"300\"/>\n",
    "</p>\n",
    "\n"
   ]
  }
 ],
 "metadata": {
  "kernelspec": {
   "display_name": "learning3d",
   "language": "python",
   "name": "python3"
  },
  "language_info": {
   "codemirror_mode": {
    "name": "ipython",
    "version": 3
   },
   "file_extension": ".py",
   "mimetype": "text/x-python",
   "name": "python",
   "nbconvert_exporter": "python",
   "pygments_lexer": "ipython3",
   "version": "3.10.18"
  }
 },
 "nbformat": 4,
 "nbformat_minor": 2
}
